{
  "nbformat": 4,
  "nbformat_minor": 0,
  "metadata": {
    "colab": {
      "name": "Detect-Outliers-Anomalies.ipynb",
      "version": "0.3.2",
      "provenance": [],
      "include_colab_link": true
    },
    "kernelspec": {
      "name": "python3",
      "display_name": "Python 3"
    }
  },
  "cells": [
    {
      "cell_type": "markdown",
      "metadata": {
        "id": "view-in-github",
        "colab_type": "text"
      },
      "source": [
        "<a href=\"https://colab.research.google.com/github/paveletto99/ai-notebooks/blob/master/Detect_Outliers_Anomalies.ipynb\" target=\"_parent\"><img src=\"https://colab.research.google.com/assets/colab-badge.svg\" alt=\"Open In Colab\"/></a>"
      ]
    },
    {
      "metadata": {
        "id": "Br67YblX35J8",
        "colab_type": "text"
      },
      "cell_type": "markdown",
      "source": [
        "**Standard Deviation**\n",
        "\n",
        "In statistics, If a data distribution is approximately normal then about 68% of the data values lie within one standard deviation of the mean and about 95% are within two standard deviations, and about 99.7% lie within three standard deviations\n",
        "\n",
        "![alt text](https://cdn-images-1.medium.com/max/800/1*rV7rq7F_uB5gwjzzGJ9VqA.png)"
      ]
    },
    {
      "metadata": {
        "id": "DgZfwnXN0YSN",
        "colab_type": "code",
        "colab": {}
      },
      "cell_type": "code",
      "source": [
        "import numpy as np\n",
        "import matplotlib.pyplot as plt\n",
        "import random\n",
        "np.random.seed(1)\n",
        "anomalies = []\n",
        "\n",
        "# multiply and add by random numbers to get some real values\n",
        "data = np.random.randn(50000)  * 20 + 20\n",
        "\n",
        "# Function to Detection Outlier on one-dimentional datasets.\n",
        "def find_anomalies(random_data):\n",
        "    # Set upper and lower limit to 3 standard deviation\n",
        "    random_data_std = np.std(random_data)\n",
        "    random_data_mean = np.mean(random_data)\n",
        "    anomaly_cut_off = random_data_std * 3\n",
        "    \n",
        "    lower_limit  = random_data_mean - anomaly_cut_off \n",
        "    upper_limit = random_data_mean + anomaly_cut_off\n",
        "    print(lower_limit)\n",
        "    # Generate outliers\n",
        "    for outlier in random_data:\n",
        "        if outlier > upper_limit or outlier < lower_limit:\n",
        "            anomalies.append(outlier)\n",
        "    return anomalies\n",
        "\n",
        "find_anomalies(data)"
      ],
      "execution_count": 0,
      "outputs": []
    },
    {
      "metadata": {
        "id": "XsJOSNoC55oP",
        "colab_type": "text"
      },
      "cell_type": "markdown",
      "source": [
        "**Method 2 — Boxplots**\n",
        "\n",
        "![alt text](https://cdn-images-1.medium.com/max/800/1*AU07MCIdvUnjskY1XH9auw.png)\n"
      ]
    },
    {
      "metadata": {
        "id": "exNBeQHz40Qa",
        "colab_type": "code",
        "colab": {
          "base_uri": "https://localhost:8080/",
          "height": 398
        },
        "outputId": "cb3c0983-5f97-422e-f82f-03c6b028a970"
      },
      "cell_type": "code",
      "source": [
        "import seaborn as sns\n",
        "import matplotlib.pyplot as plt\n",
        "\n",
        "sns.boxplot(data=data)"
      ],
      "execution_count": 27,
      "outputs": [
        {
          "output_type": "stream",
          "text": [
            "/usr/local/lib/python3.6/dist-packages/seaborn/categorical.py:454: FutureWarning: remove_na is deprecated and is a private function. Do not use.\n",
            "  box_data = remove_na(group_data)\n"
          ],
          "name": "stderr"
        },
        {
          "output_type": "execute_result",
          "data": {
            "text/plain": [
              "<matplotlib.axes._subplots.AxesSubplot at 0x7f0f7e06f048>"
            ]
          },
          "metadata": {
            "tags": []
          },
          "execution_count": 27
        },
        {
          "output_type": "display_data",
          "data": {
            "image/png": "[encoded data removed]",
            "text/plain": [
              "<Figure size 576x396 with 1 Axes>"
            ]
          },
          "metadata": {
            "tags": []
          }
        }
      ]
    },
    {
      "metadata": {
        "id": "Cf9sFshm7Lv2",
        "colab_type": "text"
      },
      "cell_type": "markdown",
      "source": [
        "** Method 3— DBScan Clustering:**\n",
        "\n",
        "DBScan is a clustering algorithm that’s used cluster data into groups. It is also used as a density-based anomaly detection method with either single or multi-dimensional data. Other clustering algorithms such as k-means and hierarchal clustering can also be used to detect outliers. In this instance, I will show you an example of using DBScan but before we start, let’s cover some important concepts. DBScan has three important concepts:\n",
        "\n",
        "Core Points: In order to understand the concept of the core points, we need to visit some of the hyperparameters used to define DBScan job. First hyperparameter (HP)is min_samples. This is simply the minimum number of core points needed in order to form a cluster. second important HP is eps. eps is the maximum distance between two samples for them to be considered as in the same cluster.\n",
        "Border Points are in the same cluster as core points but much further away from the centre of the cluster.\n",
        "\n",
        "![alt text](https://cdn-images-1.medium.com/max/800/1*d35zOOP2PQ13ZROxr9ddjA.png)\n",
        "\n",
        "Source:https://stackoverflow.com/questions/34394641/dbscan-clustering-what-happens-when-border-point-of-one-cluster-is-considered\n",
        "Everything else is called Noise Points, those are data points that do not belong to any cluster. They can be anomalous or non-anomalous and they need further investigation. Now, let’s see some code.\n"
      ]
    },
    {
      "metadata": {
        "id": "P_q3axWc67jT",
        "colab_type": "code",
        "colab": {}
      },
      "cell_type": "code",
      "source": [
        "from sklearn.cluster import DBSCAN\n",
        "\n",
        "random_data = np.random.randn(50000,2)  * 20 + 20\n",
        "outlier_detection = DBSCAN(min_samples = 2, eps = 3)\n",
        "clusters = outlier_detection.fit_predict(random_data)\n",
        "list(clusters).count(-1)\n"
      ],
      "execution_count": 0,
      "outputs": []
    },
    {
      "metadata": {
        "id": "bZbdK6sz7ivl",
        "colab_type": "text"
      },
      "cell_type": "markdown",
      "source": [
        "**Method 4— Isolation Forest:**\n",
        "\n",
        "Isolation Forest is an unsupervised learning algorithm that belongs to the ensemble decision trees family. This approach is different from all previous methods. All the previous ones were trying to find the normal region of the data then identifies anything outside of this defined region to be an outlier or anomalous."
      ]
    },
    {
      "metadata": {
        "id": "OGMldy7J7nSi",
        "colab_type": "code",
        "colab": {}
      },
      "cell_type": "code",
      "source": [
        "from sklearn.ensemble import IsolationForest\n",
        "import numpy as np\n",
        "np.random.seed(1)\n",
        "random_data = np.random.randn(50000,2)  * 20 + 20\n",
        "\n",
        "clf = IsolationForest( behaviour = 'new', max_samples=100, random_state = 1, contamination= 'auto')\n",
        "preds = clf.fit_predict(random_data)\n",
        "preds"
      ],
      "execution_count": 0,
      "outputs": []
    },
    {
      "metadata": {
        "id": "T6W-jppI8H3u",
        "colab_type": "text"
      },
      "cell_type": "markdown",
      "source": [
        "**Method 5— Robust Random Cut Forest: **\n",
        "\n",
        "Random Cut Forest (RCF) algorithm is Amazon’s unsupervised algorithm for detecting anomalies. It works by associating an anomaly score as well. Low score values indicate that the data point is considered “normal.” High values indicate the presence of an anomaly in the data. The definitions of “low” and “high” depend on the application but common practice suggests that scores beyond three standard deviations from the mean score are considered anomalous. The details of the algorithm can be found in this paper.\n",
        "\n",
        "[video](https://youtu.be/yx1vf3uapX8)\n",
        "\n",
        "[code](https://github.com/awslabs/amazon-sagemaker-examples/tree/master/introduction_to_amazon_algorithms/random_cut_forest)\n"
      ]
    }
  ]
}